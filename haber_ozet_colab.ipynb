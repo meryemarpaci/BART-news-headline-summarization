{
  "cells": [
    {
      "cell_type": "raw",
      "metadata": {
        "vscode": {
          "languageId": "raw"
        }
      },
      "source": [
        "# 🗞️ Haber Başlıklarından Otomatik Özetleme Sistemi\n",
        "\n",
        "Bu notebook, BART modeli kullanarak Türkçe haber metinlerinden otomatik özet çıkarımı yapan bir sistem içermektedir.\n",
        "\n",
        "## ✨ Özellikler:\n",
        "- 15 epoch ile geliştirilmiş eğitim\n",
        "- Loss değerlerinin CSV dosyasına kaydedilmesi\n",
        "- Maksimum 256 karakter özet üretimi\n",
        "- Test metinleri 512 karakter ile sınırlandırılmış\n",
        "- Colab GPU desteği\n",
        "- Detaylı metrik takibi\n"
      ]
    },
    {
      "cell_type": "raw",
      "metadata": {
        "vscode": {
          "languageId": "raw"
        }
      },
      "source": [
        "## 🚀 Kurulum ve Hazırlık\n"
      ]
    }
  ],
  "metadata": {
    "language_info": {
      "name": "python"
    }
  },
  "nbformat": 4,
  "nbformat_minor": 2
}
